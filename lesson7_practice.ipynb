{
 "cells": [
  {
   "cell_type": "code",
   "execution_count": 1,
   "metadata": {},
   "outputs": [],
   "source": [
    "from typing import List, Dict, Iterable\n",
    "import math"
   ]
  },
  {
   "cell_type": "code",
   "execution_count": 2,
   "metadata": {},
   "outputs": [],
   "source": [
    "class CountVectorizer:\n",
    "\n",
    "    def __init__(self, lowercase: bool = True):\n",
    "        self.lowercase = lowercase\n",
    "        self._vocab = {}\n",
    "\n",
    "    def fit_transform(self, texts: Iterable) -> List[List[int]]:\n",
    "        words = []\n",
    "\n",
    "        for text in texts:\n",
    "            if self.lowercase:\n",
    "                text = text.lower()\n",
    "            for word in text.split():\n",
    "                if word not in words:\n",
    "                    words.append(word)\n",
    "\n",
    "        self._vocab = {word: i for i, word in enumerate(words)}\n",
    "\n",
    "        vector = [[0] * len(words) for _ in range(len(texts))]\n",
    "\n",
    "        for i, text in enumerate(texts):\n",
    "            if self.lowercase:\n",
    "                text = text.lower()\n",
    "            for word in text.split():\n",
    "                vector[i][self._vocab[word]] += 1\n",
    "\n",
    "        return vector\n",
    "\n",
    "    def get_feature_names(self) -> List[str]:\n",
    "        return list(self._vocab.keys())"
   ]
  },
  {
   "cell_type": "code",
   "execution_count": 3,
   "metadata": {},
   "outputs": [
    {
     "name": "stdout",
     "output_type": "stream",
     "text": [
      "['crock', 'pot', 'pasta', 'never', 'boil', 'again', 'pomodoro', 'fresh', 'ingredients', 'parmesan', 'to', 'taste']\n",
      "[[1, 1, 2, 1, 1, 1, 0, 0, 0, 0, 0, 0], [0, 0, 1, 0, 0, 0, 1, 1, 1, 1, 1, 1]]\n"
     ]
    }
   ],
   "source": [
    "vectorizer = CountVectorizer()\n",
    "\n",
    "corpus = [\"Crock Pot Pasta Never boil pasta again\",\n",
    "          \"Pasta Pomodoro Fresh ingredients Parmesan to taste\"]\n",
    "\n",
    "count_matrix = vectorizer.fit_transform(corpus)\n",
    "print(vectorizer.get_feature_names())\n",
    "print(count_matrix)"
   ]
  },
  {
   "cell_type": "code",
   "execution_count": 4,
   "metadata": {},
   "outputs": [],
   "source": [
    "def tf_transform(matrix: List[List[int]]) -> List[List[int]]:\n",
    "    \"\"\"\n",
    "    Term frequency function\n",
    "    finds the proportion of the occurences of the word in the document\n",
    "    \"\"\"\n",
    "    \n",
    "    tf_matrix = [[0] * len(matrix[0]) for _ in range(len(matrix))]\n",
    "    \n",
    "    for i, vector in enumerate(matrix):\n",
    "        total = sum(vector)\n",
    "        for j, num in enumerate(vector):\n",
    "            tf_matrix[i][j] = round(num / total, 3)\n",
    "    \n",
    "    return tf_matrix"
   ]
  },
  {
   "cell_type": "code",
   "execution_count": 5,
   "metadata": {},
   "outputs": [
    {
     "data": {
      "text/plain": [
       "[[0.143, 0.143, 0.286, 0.143, 0.143, 0.143, 0.0, 0.0, 0.0, 0.0, 0.0, 0.0],\n",
       " [0.0, 0.0, 0.143, 0.0, 0.0, 0.0, 0.143, 0.143, 0.143, 0.143, 0.143, 0.143]]"
      ]
     },
     "execution_count": 5,
     "metadata": {},
     "output_type": "execute_result"
    }
   ],
   "source": [
    "tf_transform(count_matrix)"
   ]
  },
  {
   "cell_type": "code",
   "execution_count": 6,
   "metadata": {},
   "outputs": [],
   "source": [
    "def idf_transform(matrix: List[List[int]]) -> List[int]:\n",
    "    \"\"\"\n",
    "    Inverse document frequency\n",
    "    \"\"\"\n",
    "    idf_vector = [0] * len(matrix[0])\n",
    "    total_doc_num = len(matrix)\n",
    "\n",
    "    for j in range(len(matrix[0])):\n",
    "        word_doc_num = 0\n",
    "        for i in range(total_doc_num):\n",
    "            if matrix[i][j]:\n",
    "                word_doc_num += 1\n",
    "        idf_word = math.log((total_doc_num+1)/(word_doc_num+1))+1\n",
    "        idf_vector[j] = round(idf_word, 1)\n",
    "    return idf_vector"
   ]
  },
  {
   "cell_type": "code",
   "execution_count": 7,
   "metadata": {},
   "outputs": [
    {
     "data": {
      "text/plain": [
       "[1.4, 1.4, 1.0, 1.4, 1.4, 1.4, 1.4, 1.4, 1.4, 1.4, 1.4, 1.4]"
      ]
     },
     "execution_count": 7,
     "metadata": {},
     "output_type": "execute_result"
    }
   ],
   "source": [
    "idf_transform(count_matrix)"
   ]
  },
  {
   "cell_type": "code",
   "execution_count": 8,
   "metadata": {},
   "outputs": [],
   "source": [
    "class TfidfTransformer:\n",
    "    def __init__(self):\n",
    "        pass\n",
    "\n",
    "    def fit_transform(self, count_matrix: List[List[int]]) -> List[List[int]]:\n",
    "        tf = self.tf_transform(matrix=count_matrix)\n",
    "        idf = self.idf_transform(matrix=count_matrix)\n",
    "\n",
    "        tfidf = [[0] * len(count_matrix[0]) for _ in range(len(count_matrix))]\n",
    "\n",
    "        for i, vector in enumerate(tf):\n",
    "            for j in range(len(vector)):\n",
    "                tfidf[i][j] = round(vector[j] * idf[j], 3)\n",
    "        \n",
    "        return tfidf\n",
    "\n",
    "    def tf_transform(self, matrix: List[List[int]]) -> List[List[int]]:\n",
    "        \"\"\"\n",
    "        Term frequency function\n",
    "        finds the proportion of the occurences of the word in the document\n",
    "        \"\"\"\n",
    "        \n",
    "        tf_matrix = [[0] * len(matrix[0]) for _ in range(len(matrix))]\n",
    "        \n",
    "        for i, vector in enumerate(matrix):\n",
    "            total = sum(vector)\n",
    "            for j, num in enumerate(vector):\n",
    "                tf_matrix[i][j] = round(num / total, 3)\n",
    "        \n",
    "        return tf_matrix\n",
    "\n",
    "    def idf_transform(self, matrix: List[List[int]]) -> List[int]:\n",
    "        \"\"\"\n",
    "        Inverse document frequency\n",
    "        \"\"\"\n",
    "        idf_vector = [0] * len(matrix[0])\n",
    "        total_doc_num = len(matrix)\n",
    "\n",
    "        for j in range(len(matrix[0])):\n",
    "            word_doc_num = 0\n",
    "            for i in range(total_doc_num):\n",
    "                if matrix[i][j]:\n",
    "                    word_doc_num += 1\n",
    "            idf_word = math.log((total_doc_num+1)/(word_doc_num+1))+1\n",
    "            idf_vector[j] = round(idf_word, 1)\n",
    "        return idf_vector\n",
    "\n",
    "    @classmethod\n",
    "    def transform(cls, count_matrix: List[List[int]]):\n",
    "        transformer = cls()\n",
    "        return transformer.fit_transform(count_matrix)"
   ]
  },
  {
   "cell_type": "code",
   "execution_count": 9,
   "metadata": {},
   "outputs": [
    {
     "data": {
      "text/plain": [
       "[[0.2, 0.2, 0.286, 0.2, 0.2, 0.2, 0.0, 0.0, 0.0, 0.0, 0.0, 0.0],\n",
       " [0.0, 0.0, 0.143, 0.0, 0.0, 0.0, 0.2, 0.2, 0.2, 0.2, 0.2, 0.2]]"
      ]
     },
     "execution_count": 9,
     "metadata": {},
     "output_type": "execute_result"
    }
   ],
   "source": [
    "transformer = TfidfTransformer()\n",
    "tfidf_matrix = transformer.fit_transform(count_matrix)\n",
    "tfidf_matrix"
   ]
  },
  {
   "cell_type": "code",
   "execution_count": 10,
   "metadata": {},
   "outputs": [],
   "source": [
    "class TfidVectorizer(CountVectorizer):\n",
    "    def __init__(self, lowercase: bool = True):\n",
    "        super().__init__(lowercase=lowercase)\n",
    "\n",
    "    def fit_transform(self, texts: Iterable):\n",
    "        count_matrix = super().fit_transform(texts=texts)\n",
    "        tfidf = TfidfTransformer.transform(count_matrix)\n",
    "        return tfidf\n",
    "\n",
    "    def tf_transform(self, matrix: List[List[int]]) -> List[List[int]]:\n",
    "        \"\"\"\n",
    "        Term frequency function\n",
    "        finds the proportion of the occurences of the word in the document\n",
    "        \"\"\"\n",
    "        \n",
    "        tf_matrix = [[0] * len(matrix[0]) for _ in range(len(matrix))]\n",
    "        \n",
    "        for i, vector in enumerate(matrix):\n",
    "            total = sum(vector)\n",
    "            for j, num in enumerate(vector):\n",
    "                tf_matrix[i][j] = round(num / total, 3)\n",
    "        \n",
    "        return tf_matrix\n",
    "\n",
    "    def idf_transform(self, matrix: List[List[int]]) -> List[int]:\n",
    "        \"\"\"\n",
    "        Inverse document frequency\n",
    "        \"\"\"\n",
    "        idf_vector = [0] * len(matrix[0])\n",
    "        total_doc_num = len(matrix)\n",
    "\n",
    "        for j in range(len(matrix[0])):\n",
    "            word_doc_num = 0\n",
    "            for i in range(total_doc_num):\n",
    "                if matrix[i][j]:\n",
    "                    word_doc_num += 1\n",
    "            idf_word = math.log((total_doc_num+1)/(word_doc_num+1))+1\n",
    "            idf_vector[j] = round(idf_word, 1)\n",
    "        return idf_vector"
   ]
  },
  {
   "cell_type": "code",
   "execution_count": 11,
   "metadata": {},
   "outputs": [],
   "source": [
    "vectorizer = TfidVectorizer()"
   ]
  },
  {
   "cell_type": "code",
   "execution_count": 12,
   "metadata": {},
   "outputs": [],
   "source": [
    "tfidf_matrix = vectorizer.fit_transform(corpus)"
   ]
  },
  {
   "cell_type": "code",
   "execution_count": 13,
   "metadata": {},
   "outputs": [
    {
     "data": {
      "text/plain": [
       "[[0.2, 0.2, 0.286, 0.2, 0.2, 0.2, 0.0, 0.0, 0.0, 0.0, 0.0, 0.0],\n",
       " [0.0, 0.0, 0.143, 0.0, 0.0, 0.0, 0.2, 0.2, 0.2, 0.2, 0.2, 0.2]]"
      ]
     },
     "execution_count": 13,
     "metadata": {},
     "output_type": "execute_result"
    }
   ],
   "source": [
    "tfidf_matrix"
   ]
  },
  {
   "cell_type": "code",
   "execution_count": null,
   "metadata": {},
   "outputs": [],
   "source": []
  }
 ],
 "metadata": {
  "kernelspec": {
   "display_name": "base",
   "language": "python",
   "name": "python3"
  },
  "language_info": {
   "codemirror_mode": {
    "name": "ipython",
    "version": 3
   },
   "file_extension": ".py",
   "mimetype": "text/x-python",
   "name": "python",
   "nbconvert_exporter": "python",
   "pygments_lexer": "ipython3",
   "version": "3.11.4"
  }
 },
 "nbformat": 4,
 "nbformat_minor": 2
}
